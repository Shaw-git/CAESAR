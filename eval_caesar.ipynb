{
 "cells": [
  {
   "cell_type": "code",
   "execution_count": 4,
   "id": "7c1e4327-38ee-49fa-b1df-72e4a79c7274",
   "metadata": {
    "tags": []
   },
   "outputs": [],
   "source": [
    "from CAESAR.compressor import CAESAR"
   ]
  },
  {
   "cell_type": "code",
   "execution_count": 6,
   "id": "6d61c2ba-3e33-4800-a5c9-452de9737dfe",
   "metadata": {
    "tags": []
   },
   "outputs": [],
   "source": [
    "data_arg = {\n",
    "    \"data_path\": \"/blue/ranka/shared-xiaoli/ScientificDataset/S3D/s3d.npz\",\n",
    "    # Load dimension 0 at index 8 (e.g. a variable or channel)\n",
    "    \"variable_idx\": [8],\n",
    "    # Load dimension 1 in the range [0:1] (e.g. a spatial or slice range)\n",
    "    \"section_range\": [0, 1],\n",
    "    # Load dimension 2 in the range [0:48] (e.g. frame/timestep range)\n",
    "    \"frame_range\": [0, 48],\n",
    "    # Target resolution after resizing (height, width)\n",
    "    \"resolution\": (512, 512),\n",
    "    # Number of frames per sample: 8 for CAESAR-V, 16 for CAESAR-D\n",
    "    \"n_frame\": 16,\n",
    "}\n",
    "\n",
    "\n"
   ]
  },
  {
   "cell_type": "code",
   "execution_count": 7,
   "id": "700fd6ce-a2b2-4bfe-a1c4-c242ee2e8a17",
   "metadata": {
    "tags": []
   },
   "outputs": [
    {
     "name": "stdout",
     "output_type": "stream",
     "text": [
      "Loading CAESAE-V\n"
     ]
    }
   ],
   "source": [
    "compressor = CAESAR(model_path=\"../GenCompress/snapshots/caesar_model/caesar_v.pt\", use_diffusion = False, device = \"cuda\")"
   ]
  },
  {
   "cell_type": "code",
   "execution_count": 8,
   "id": "82943d7f-fbad-43b1-8df1-996b4309e598",
   "metadata": {
    "tags": []
   },
   "outputs": [
    {
     "name": "stdout",
     "output_type": "stream",
     "text": [
      "*************** Loading Customized Dataset ***************\n",
      "Testing Data Shape torch.Size([1, 4, 48, 256, 256])\n"
     ]
    }
   ],
   "source": [
    "from dataset import ScientificDataset\n",
    "from torch.utils.data import DataLoader\n",
    "\n",
    "dataset_org = ScientificDataset(data_arg)\n",
    "shape = dataset_org.data_input.shape\n",
    "\n",
    "dataloader =  DataLoader(dataset_org, batch_size=64, shuffle=False, num_workers=2)\n",
    "\n"
   ]
  },
  {
   "cell_type": "code",
   "execution_count": null,
   "id": "0d20a45b-d8be-4dca-8076-336ff1e21ee4",
   "metadata": {},
   "outputs": [],
   "source": [
    "compressed_data, compressed_size = compressor.compress(dataloader, eb=0.0001)\n",
    "recons_data = compressor.decompress(compressed_data)"
   ]
  },
  {
   "cell_type": "code",
   "execution_count": null,
   "id": "7268c941-0e22-4582-843d-078b52c7e89b",
   "metadata": {
    "tags": []
   },
   "outputs": [],
   "source": [
    "# valid_length = 46\n",
    "import numpy as np\n",
    "\n",
    "original_data = dataset_org.original_data()\n",
    "nrmse = torch.sqrt(torch.mean((original_data - recons_data) ** 2)) / (torch.max(original_data) - torch.min(original_data))\n",
    "cr = np.prod(original_data.shape)*8/compressed_size\n",
    "print(nrmse.item(), \"CR:\", cr.item())"
   ]
  },
  {
   "cell_type": "code",
   "execution_count": null,
   "id": "049c34f4-a48f-4ddc-b7ac-a93e32a6bbd4",
   "metadata": {},
   "outputs": [],
   "source": [
    "import matplotlib.pyplot as plt\n",
    "import matplotlib.animation as animation\n",
    "import imageio\n",
    "import numpy as np\n",
    "from IPython.display import HTML\n",
    "\n",
    "fig, ax = plt.subplots(figsize=(16,10))\n",
    "\n",
    "video1 = valid_orgdata[0,0,:,::2,::2]\n",
    "video2 = recons_data[0,0,:,::2,::2]\n",
    "residual  = np.abs(video1-video2)\n",
    "video = np.concatenate([video1, video2, residual], axis = -1)\n",
    "# video = recons_data[:,0]\n",
    "\n",
    "im = ax.imshow(video[0], cmap=\"jet\")\n",
    "\n",
    "def update(frame):\n",
    "    im.set_array(video[frame])\n",
    "    return [im]\n",
    "\n",
    "ani = animation.FuncAnimation(fig, update, frames=len(video), interval=1)\n",
    "\n",
    "# Save as a GIF\n",
    "ani.save(\"animation.gif\", writer=animation.PillowWriter(fps=5))\n",
    "\n",
    "# Display in Jupyter Notebook\n",
    "HTML(ani.to_jshtml())"
   ]
  },
  {
   "cell_type": "code",
   "execution_count": null,
   "id": "5043ae83-9ed2-45ab-b70a-d829448268aa",
   "metadata": {},
   "outputs": [],
   "source": []
  }
 ],
 "metadata": {
  "kernelspec": {
   "display_name": "PyTorch-2.7",
   "language": "python",
   "name": "pytorch-2.7"
  },
  "language_info": {
   "codemirror_mode": {
    "name": "ipython",
    "version": 3
   },
   "file_extension": ".py",
   "mimetype": "text/x-python",
   "name": "python",
   "nbconvert_exporter": "python",
   "pygments_lexer": "ipython3",
   "version": "3.12.0"
  }
 },
 "nbformat": 4,
 "nbformat_minor": 5
}
